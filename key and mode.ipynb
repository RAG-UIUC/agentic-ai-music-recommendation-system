{
 "cells": [
  {
   "cell_type": "code",
   "execution_count": 8,
   "id": "367156e0-b09c-43b2-8be9-750ed4b63743",
   "metadata": {},
   "outputs": [],
   "source": [
    "import librosa\n",
    "import numpy as np\n",
    "# this fetches a song from librosa\n",
    "filename = librosa.example('nutcracker')\n",
    "\n",
    "y, sr = librosa.load(filename)\n"
   ]
  },
  {
   "cell_type": "code",
   "execution_count": 9,
   "id": "080ccb9f-e205-4e04-93ec-6ee46ac5182c",
   "metadata": {},
   "outputs": [
    {
     "name": "stdout",
     "output_type": "stream",
     "text": [
      "Estimated key: E minor\n"
     ]
    }
   ],
   "source": [
    "# 2. Separate harmonic and percussive components\n",
    "y_harmonic, y_percussive = librosa.effects.hpss(y)\n",
    "\n",
    "# 3. Compute a chromagram from the harmonic component\n",
    "chromagram = librosa.feature.chroma_cqt(y=y_harmonic, sr=sr)\n",
    "\n",
    "# 4. Define the 12 chromatic pitch classes\n",
    "keys = ['C', 'C#', 'D', 'D#', 'E', 'F', 'F#', 'G', 'G#', 'A', 'A#', 'B']\n",
    "\n",
    "# 5. Define major and minor key profiles (Krumhansl-Schmuckler)\n",
    "# These represent the \"ideal\" distribution of pitches for major and minor keys\n",
    "major_profile = np.array([6.35, 2.23, 3.48, 2.33, 4.38, 4.09, 2.52, 5.19, 2.39, 3.66, 2.29, 2.88])\n",
    "minor_profile = np.array([6.33, 2.68, 3.52, 5.38, 2.60, 3.53, 2.54, 4.75, 3.98, 2.69, 3.34, 3.17])\n",
    "\n",
    "# 6. Aggregate chroma features across time\n",
    "# We sum up the energy for each pitch class across the whole song\n",
    "chroma_sum = np.sum(chromagram, axis=1)\n",
    "\n",
    "# 7. Calculate correlation with all 24 major/minor keys\n",
    "correlations = []\n",
    "for i in range(12):\n",
    "    # Calculate correlation with the major profile for each key\n",
    "    major_corr = np.corrcoef(chroma_sum, np.roll(major_profile, i))[0, 1]\n",
    "    correlations.append(('{} major'.format(keys[i]), major_corr))\n",
    "\n",
    "    # Calculate correlation with the minor profile for each key\n",
    "    minor_corr = np.corrcoef(chroma_sum, np.roll(minor_profile, i))[0, 1]\n",
    "    correlations.append(('{} minor'.format(keys[i]), minor_corr))\n",
    "\n",
    "# 8. Find the key with the highest correlation\n",
    "best_key = max(correlations, key=lambda item: item[1])\n",
    "\n",
    "print(f\"Estimated key: {best_key[0]}\")"
   ]
  },
  {
   "cell_type": "code",
   "execution_count": null,
   "id": "43348899-cf4a-43f2-86ed-506f65a1e58d",
   "metadata": {},
   "outputs": [],
   "source": []
  }
 ],
 "metadata": {
  "kernelspec": {
   "display_name": "Python 3 (ipykernel)",
   "language": "python",
   "name": "python3"
  },
  "language_info": {
   "codemirror_mode": {
    "name": "ipython",
    "version": 3
   },
   "file_extension": ".py",
   "mimetype": "text/x-python",
   "name": "python",
   "nbconvert_exporter": "python",
   "pygments_lexer": "ipython3",
   "version": "3.13.7"
  }
 },
 "nbformat": 4,
 "nbformat_minor": 5
}
