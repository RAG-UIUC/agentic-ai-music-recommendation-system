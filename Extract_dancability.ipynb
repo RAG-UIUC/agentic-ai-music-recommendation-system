{
 "cells": [
  {
   "cell_type": "code",
   "execution_count": null,
   "id": "58d6b582",
   "metadata": {},
   "outputs": [],
   "source": [
    "import librosa\n",
    "AUDIO_PATH = '/Users/ethanshen/Documents/GitHub/rag-music-recs/agentic-ai-music-recommendation-system/Saladik Ătjum.mp3'\n",
    "y, sr = librosa.load(AUDIO_PATH)\n",
    "\n",
    "tempo, beat_frames = librosa.beat.beat_track(y=y, sr=sr)\n",
    "onset_env = librosa.onset.onset_strength(y=y, sr=sr)\n",
    "beat_times = librosa.frames_to_time(beat_frames, sr=sr)\n"
   ]
  },
  {
   "cell_type": "code",
   "execution_count": 3,
   "id": "b6131cac",
   "metadata": {},
   "outputs": [],
   "source": [
    "import numpy as np\n",
    "beat_times = librosa.frames_to_time(beat_frames, sr=sr)\n",
    "intervals = np.diff(beat_times)\n",
    "\n",
    "rhythmic_regularity = 1 - (np.std(intervals) / np.mean(intervals))\n",
    "rhythmic_regularity = np.clip(rhythmic_regularity, 0, 1)\n"
   ]
  },
  {
   "cell_type": "code",
   "execution_count": 4,
   "id": "2fe3fdac",
   "metadata": {},
   "outputs": [],
   "source": [
    "rms = librosa.feature.rms(y=y)\n",
    "energy = rms.mean()\n",
    "spectral_flux = librosa.onset.onset_strength(y=y, sr=sr).mean()\n"
   ]
  },
  {
   "cell_type": "code",
   "execution_count": 5,
   "id": "8deb7e95",
   "metadata": {},
   "outputs": [
    {
     "data": {
      "text/plain": [
       "array([0.79838998])"
      ]
     },
     "execution_count": 5,
     "metadata": {},
     "output_type": "execute_result"
    }
   ],
   "source": [
    "import numpy as np\n",
    "\n",
    "# Normalize to 0-1 ranges roughly\n",
    "tempo_score = np.clip((tempo - 60) / (180 - 60), 0, 1)  # prefer 60–180 BPM\n",
    "reg_score = np.clip(rhythmic_regularity, 0, 1)\n",
    "energy_score = np.clip(energy / np.max(rms), 0, 1)\n",
    "\n",
    "danceability = 0.5 * tempo_score + 0.3 * reg_score + 0.2 * energy_score\n",
    "danceability\n"
   ]
  },
  {
   "cell_type": "code",
   "execution_count": null,
   "id": "f694cf4e",
   "metadata": {},
   "outputs": [],
   "source": []
  }
 ],
 "metadata": {
  "kernelspec": {
   "display_name": "rag-music-recs",
   "language": "python",
   "name": "python3"
  },
  "language_info": {
   "codemirror_mode": {
    "name": "ipython",
    "version": 3
   },
   "file_extension": ".py",
   "mimetype": "text/x-python",
   "name": "python",
   "nbconvert_exporter": "python",
   "pygments_lexer": "ipython3",
   "version": "3.13.5"
  }
 },
 "nbformat": 4,
 "nbformat_minor": 5
}
