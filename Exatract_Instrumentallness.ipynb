{
 "cells": [
  {
   "cell_type": "code",
   "execution_count": 1,
   "id": "2eb99b3e",
   "metadata": {},
   "outputs": [],
   "source": [
    "\n",
    "import numpy as np\n",
    "import librosa as lr\n",
    "\n",
    "def _band_energy_ratio(S_power, sr, fmin, fmax):\n",
    "    \"\"\"Energy in [fmin,fmax] divided by total energy.\"\"\"\n",
    "    freqs = lr.fft_frequencies(sr=sr, n_fft=(S_power.shape[0]-1)*2)\n",
    "    idx = (freqs >= fmin) & (freqs <= fmax)\n",
    "    mid = S_power[idx].sum()\n",
    "    tot = S_power.sum() + 1e-12\n",
    "    return float(mid / tot)\n",
    "\n",
    "def _voiced_frame_ratio(y, sr):\n",
    "    \"\"\"Fraction of frames where pyin finds a pitch (singing/speech-like).\"\"\"\n",
    "    try:\n",
    "        f0, voiced, _ = lr.pyin(\n",
    "            y, fmin=65, fmax=1000,\n",
    "            frame_length=2048, hop_length=512\n",
    "        )\n",
    "        if f0 is None:\n",
    "            return 0.0\n",
    "        return float(np.mean(~np.isnan(f0)))\n",
    "    except Exception:\n",
    "        # pyin can fail on very short or noisy audio\n",
    "        return 0.0\n",
    "\n",
    "def instrumentalness_score(y, sr):\n",
    "    \"\"\"Return float in [0, 1]: higher means more likely instrumental.\"\"\"\n",
    "    # Trim silence to reduce intro/outro bias\n",
    "    y, _ = lr.effects.trim(y, top_db=30)\n",
    "\n",
    "    # STFT power spectrogram\n",
    "    S = np.abs(lr.stft(y, n_fft=2048, hop_length=512))**2\n",
    "\n",
    "    # 1) Voiced-frame ratio (singing proxy)\n",
    "    vfr = _voiced_frame_ratio(y, sr)  # 0..1, higher means more likely vocals\n",
    "\n",
    "    # 2) Mid-band energy ratio ~300–3000 Hz (vocal formant region)\n",
    "    mer = _band_energy_ratio(S, sr, fmin=300.0, fmax=3000.0)  # 0..1\n",
    "\n",
    "    # Light compression to avoid one term dominating\n",
    "    vfr_c = vfr**0.8\n",
    "    mer_c = mer**0.8\n",
    "\n",
    "    # Combine with simple weights (tweak as needed)\n",
    "    vocal_likeness = 0.6 * vfr_c + 0.4 * mer_c\n",
    "    score = 1.0 - vocal_likeness\n",
    "\n",
    "    # Clamp\n",
    "    return float(np.clip(score, 0.0, 1.0))\n",
    "\n",
    "def instrumentalness_from_file(path, target_sr=22050, duration=None):\n",
    "    \"\"\"Load audio, resample to target_sr for consistency, optional duration (seconds).\"\"\"\n",
    "    y, sr = lr.load(path, sr=target_sr, mono=True, duration=duration)\n",
    "    # Normalize\n",
    "    y = lr.util.normalize(y)\n",
    "    return instrumentalness_score(y, sr)\n"
   ]
  },
  {
   "cell_type": "code",
   "execution_count": 4,
   "id": "230d37e1",
   "metadata": {},
   "outputs": [
    {
     "name": "stdout",
     "output_type": "stream",
     "text": [
      "Instrumentalness (no-ML): 0.493\n",
      "Uncertain\n"
     ]
    }
   ],
   "source": [
    "\n",
    "# Replace with your file path. You can also upload a file into the notebook runtime.\n",
    "AUDIO_PATH = \"/Users/ethanshen/Documents/GitHub/rag-music-recs/agentic-ai-music-recommendation-system/Saladik Ătjum.mp3\"  # e.g., \"uploads/my_track.mp3\"\n",
    "\n",
    "try:\n",
    "    score = instrumentalness_from_file(AUDIO_PATH)\n",
    "    print(f\"Instrumentalness (no-ML): {score:.3f}\")\n",
    "    if score >= 0.80:\n",
    "        print(\"Likely instrumental\")\n",
    "    elif score <= 0.20:\n",
    "        print(\"Likely vocal\")\n",
    "    else:\n",
    "        print(\"Uncertain\")\n",
    "except FileNotFoundError:\n",
    "    print(\"Provide a valid AUDIO_PATH to an existing file and rerun this cell.\")\n"
   ]
  },
  {
   "cell_type": "code",
   "execution_count": null,
   "id": "90f764fd",
   "metadata": {},
   "outputs": [],
   "source": []
  }
 ],
 "metadata": {
  "kernelspec": {
   "display_name": "rag-music-recs",
   "language": "python",
   "name": "python3"
  },
  "language_info": {
   "codemirror_mode": {
    "name": "ipython",
    "version": 3
   },
   "file_extension": ".py",
   "mimetype": "text/x-python",
   "name": "python",
   "nbconvert_exporter": "python",
   "pygments_lexer": "ipython3",
   "version": "3.13.5"
  }
 },
 "nbformat": 4,
 "nbformat_minor": 5
}
